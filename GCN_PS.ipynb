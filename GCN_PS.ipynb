{
  "nbformat": 4,
  "nbformat_minor": 0,
  "metadata": {
    "colab": {
      "name": "GCN_PS.ipynb",
      "provenance": [],
      "collapsed_sections": []
    },
    "kernelspec": {
      "name": "python3",
      "display_name": "Python 3"
    },
    "language_info": {
      "name": "python"
    }
  },
  "cells": [
    {
      "cell_type": "code",
      "execution_count": null,
      "metadata": {
        "colab": {
          "base_uri": "https://localhost:8080/"
        },
        "id": "f1zXGBFqiqsc",
        "outputId": "6a7ed232-da2c-4d0f-9a09-680d5a40a0a4"
      },
      "outputs": [
        {
          "output_type": "stream",
          "name": "stdout",
          "text": [
            "Cloning into 'GraphNeuralNet'...\n",
            "remote: Enumerating objects: 69, done.\u001b[K\n",
            "remote: Counting objects: 100% (69/69), done.\u001b[K\n",
            "remote: Compressing objects: 100% (61/61), done.\u001b[K\n",
            "remote: Total 69 (delta 17), reused 39 (delta 4), pack-reused 0\u001b[K\n",
            "Unpacking objects: 100% (69/69), done.\n"
          ]
        }
      ],
      "source": [
        "!git clone https://github.com/praxidike97/GraphNeuralNet.git"
      ]
    },
    {
      "cell_type": "code",
      "source": [
        "from google.colab import drive\n",
        "drive.mount('/content/drive')"
      ],
      "metadata": {
        "colab": {
          "base_uri": "https://localhost:8080/"
        },
        "id": "S0wKPBYkitfx",
        "outputId": "8d477b70-a822-486d-9855-96c7b2228a01"
      },
      "execution_count": null,
      "outputs": [
        {
          "output_type": "stream",
          "name": "stdout",
          "text": [
            "Mounted at /content/drive\n"
          ]
        }
      ]
    },
    {
      "cell_type": "code",
      "source": [
        "!python main.py"
      ],
      "metadata": {
        "colab": {
          "base_uri": "https://localhost:8080/"
        },
        "id": "8wPP3oB-i2hX",
        "outputId": "37c13c84-76ff-4baf-9b92-21fe15ba0468"
      },
      "execution_count": null,
      "outputs": [
        {
          "output_type": "stream",
          "name": "stdout",
          "text": [
            "python3: can't open file 'main.py': [Errno 2] No such file or directory\n"
          ]
        }
      ]
    },
    {
      "cell_type": "code",
      "source": [
        "%cd /content/GraphNeuralNet"
      ],
      "metadata": {
        "colab": {
          "base_uri": "https://localhost:8080/"
        },
        "id": "1JpBeODtjBab",
        "outputId": "506fd1dd-fca3-4784-db61-5716a7c518ce"
      },
      "execution_count": null,
      "outputs": [
        {
          "output_type": "stream",
          "name": "stdout",
          "text": [
            "/content/GraphNeuralNet\n"
          ]
        }
      ]
    },
    {
      "cell_type": "code",
      "source": [
        "%cd /content/GraphNeuralNet"
      ],
      "metadata": {
        "colab": {
          "base_uri": "https://localhost:8080/"
        },
        "id": "rGX0V5IkjHIz",
        "outputId": "6b1764c9-fe90-464c-9b3e-3c58dea88aec"
      },
      "execution_count": null,
      "outputs": [
        {
          "output_type": "stream",
          "name": "stdout",
          "text": [
            "/content/GraphNeuralNet\n"
          ]
        }
      ]
    },
    {
      "cell_type": "code",
      "source": [
        "!pip install torch_sparse\n",
        "!python main.py"
      ],
      "metadata": {
        "colab": {
          "base_uri": "https://localhost:8080/"
        },
        "id": "wcnlguCHjKXb",
        "outputId": "4034ad55-f36d-41bd-9ffe-30c433335873"
      },
      "execution_count": null,
      "outputs": [
        {
          "output_type": "stream",
          "name": "stdout",
          "text": [
            "Collecting torch_sparse\n",
            "  Downloading torch_sparse-0.6.13.tar.gz (48 kB)\n",
            "\u001b[?25l\r\u001b[K     |██████▊                         | 10 kB 18.6 MB/s eta 0:00:01\r\u001b[K     |█████████████▌                  | 20 kB 11.3 MB/s eta 0:00:01\r\u001b[K     |████████████████████▎           | 30 kB 9.5 MB/s eta 0:00:01\r\u001b[K     |███████████████████████████     | 40 kB 8.6 MB/s eta 0:00:01\r\u001b[K     |████████████████████████████████| 48 kB 2.5 MB/s \n",
            "\u001b[?25hRequirement already satisfied: scipy in /usr/local/lib/python3.7/dist-packages (from torch_sparse) (1.4.1)\n",
            "Requirement already satisfied: numpy>=1.13.3 in /usr/local/lib/python3.7/dist-packages (from scipy->torch_sparse) (1.21.5)\n",
            "Building wheels for collected packages: torch-sparse\n",
            "  Building wheel for torch-sparse (setup.py) ... \u001b[?25l\u001b[?25hdone\n",
            "  Created wheel for torch-sparse: filename=torch_sparse-0.6.13-cp37-cp37m-linux_x86_64.whl size=510031 sha256=5ac101a01fbbe9a0112c1e8ee4b21bd759b8b1b6f144839ac03a59186bf2d718\n",
            "  Stored in directory: /root/.cache/pip/wheels/e0/01/be/6b2966e0ff20bb023ae35e5d17903e6e5b4df46dd5892f6be6\n",
            "Successfully built torch-sparse\n",
            "Installing collected packages: torch-sparse\n",
            "Successfully installed torch-sparse-0.6.13\n",
            "Downloading https://github.com/kimiyoung/planetoid/raw/master/data/ind.cora.x\n",
            "Downloading https://github.com/kimiyoung/planetoid/raw/master/data/ind.cora.tx\n",
            "Downloading https://github.com/kimiyoung/planetoid/raw/master/data/ind.cora.allx\n",
            "Downloading https://github.com/kimiyoung/planetoid/raw/master/data/ind.cora.y\n",
            "Downloading https://github.com/kimiyoung/planetoid/raw/master/data/ind.cora.ty\n",
            "Downloading https://github.com/kimiyoung/planetoid/raw/master/data/ind.cora.ally\n",
            "Downloading https://github.com/kimiyoung/planetoid/raw/master/data/ind.cora.graph\n",
            "Downloading https://github.com/kimiyoung/planetoid/raw/master/data/ind.cora.test.index\n",
            "Processing...\n",
            "Done!\n",
            "<Figure size 640x480 with 1 Axes>\n",
            "Epoch: 000, Loss: 1.94679, Train Acc: 0.24286, Test Acc: 0.17400\n",
            "Epoch: 001, Loss: 1.90465, Train Acc: 0.66429, Test Acc: 0.42100\n",
            "Epoch: 002, Loss: 1.83754, Train Acc: 0.74286, Test Acc: 0.43600\n",
            "Epoch: 003, Loss: 1.75187, Train Acc: 0.85714, Test Acc: 0.55200\n",
            "Epoch: 004, Loss: 1.65776, Train Acc: 0.87857, Test Acc: 0.62000\n",
            "Epoch: 005, Loss: 1.58930, Train Acc: 0.89286, Test Acc: 0.68100\n",
            "Epoch: 006, Loss: 1.49158, Train Acc: 0.91429, Test Acc: 0.72500\n",
            "Epoch: 007, Loss: 1.38557, Train Acc: 0.91429, Test Acc: 0.74600\n",
            "Epoch: 008, Loss: 1.30040, Train Acc: 0.92857, Test Acc: 0.75600\n",
            "Epoch: 009, Loss: 1.16411, Train Acc: 0.93571, Test Acc: 0.75900\n",
            "Epoch: 010, Loss: 1.08699, Train Acc: 0.95000, Test Acc: 0.76500\n",
            "Epoch: 011, Loss: 0.96240, Train Acc: 0.95000, Test Acc: 0.77000\n",
            "Epoch: 012, Loss: 0.88297, Train Acc: 0.95714, Test Acc: 0.77200\n",
            "Epoch: 013, Loss: 0.84145, Train Acc: 0.95714, Test Acc: 0.77300\n",
            "Epoch: 014, Loss: 0.77848, Train Acc: 0.97143, Test Acc: 0.77700\n",
            "Epoch: 015, Loss: 0.66495, Train Acc: 0.98571, Test Acc: 0.78600\n",
            "Epoch: 016, Loss: 0.59764, Train Acc: 0.98571, Test Acc: 0.79800\n",
            "Epoch: 017, Loss: 0.53306, Train Acc: 0.97857, Test Acc: 0.80300\n",
            "Epoch: 018, Loss: 0.47987, Train Acc: 0.98571, Test Acc: 0.80700\n",
            "Epoch: 019, Loss: 0.42559, Train Acc: 0.98571, Test Acc: 0.80800\n",
            "Epoch: 020, Loss: 0.37657, Train Acc: 0.98571, Test Acc: 0.81200\n",
            "Epoch: 021, Loss: 0.34492, Train Acc: 0.98571, Test Acc: 0.81300\n",
            "Epoch: 022, Loss: 0.28093, Train Acc: 0.98571, Test Acc: 0.81100\n",
            "Epoch: 023, Loss: 0.27672, Train Acc: 0.99286, Test Acc: 0.81200\n",
            "Epoch: 024, Loss: 0.24015, Train Acc: 0.99286, Test Acc: 0.81100\n",
            "Epoch: 025, Loss: 0.20966, Train Acc: 1.00000, Test Acc: 0.81100\n",
            "Epoch: 026, Loss: 0.22687, Train Acc: 1.00000, Test Acc: 0.81000\n",
            "Epoch: 027, Loss: 0.18469, Train Acc: 1.00000, Test Acc: 0.80800\n",
            "Epoch: 028, Loss: 0.15621, Train Acc: 1.00000, Test Acc: 0.80400\n",
            "Epoch: 029, Loss: 0.13002, Train Acc: 1.00000, Test Acc: 0.80100\n",
            "Epoch: 030, Loss: 0.16123, Train Acc: 1.00000, Test Acc: 0.79900\n",
            "Epoch: 031, Loss: 0.12594, Train Acc: 1.00000, Test Acc: 0.79900\n",
            "Epoch: 032, Loss: 0.14391, Train Acc: 1.00000, Test Acc: 0.79700\n",
            "Epoch: 033, Loss: 0.10201, Train Acc: 1.00000, Test Acc: 0.79400\n",
            "Epoch: 034, Loss: 0.07623, Train Acc: 1.00000, Test Acc: 0.79400\n",
            "Epoch: 035, Loss: 0.10628, Train Acc: 1.00000, Test Acc: 0.79500\n",
            "Epoch: 036, Loss: 0.08046, Train Acc: 1.00000, Test Acc: 0.79400\n",
            "Epoch: 037, Loss: 0.10883, Train Acc: 1.00000, Test Acc: 0.80000\n",
            "Epoch: 038, Loss: 0.06659, Train Acc: 1.00000, Test Acc: 0.80100\n",
            "Epoch: 039, Loss: 0.06636, Train Acc: 1.00000, Test Acc: 0.80100\n",
            "Epoch: 040, Loss: 0.06487, Train Acc: 1.00000, Test Acc: 0.80200\n",
            "Epoch: 041, Loss: 0.07432, Train Acc: 1.00000, Test Acc: 0.80100\n",
            "Epoch: 042, Loss: 0.08922, Train Acc: 1.00000, Test Acc: 0.80100\n",
            "Epoch: 043, Loss: 0.07088, Train Acc: 1.00000, Test Acc: 0.79900\n",
            "Epoch: 044, Loss: 0.05879, Train Acc: 1.00000, Test Acc: 0.79900\n",
            "Epoch: 045, Loss: 0.05397, Train Acc: 1.00000, Test Acc: 0.79800\n",
            "Epoch: 046, Loss: 0.05787, Train Acc: 1.00000, Test Acc: 0.79700\n",
            "Epoch: 047, Loss: 0.05433, Train Acc: 1.00000, Test Acc: 0.79700\n",
            "Epoch: 048, Loss: 0.05203, Train Acc: 1.00000, Test Acc: 0.79600\n",
            "Epoch: 049, Loss: 0.07163, Train Acc: 1.00000, Test Acc: 0.79300\n",
            "Epoch: 050, Loss: 0.05692, Train Acc: 1.00000, Test Acc: 0.79100\n",
            "Epoch: 051, Loss: 0.04765, Train Acc: 1.00000, Test Acc: 0.79100\n",
            "Epoch: 052, Loss: 0.06179, Train Acc: 1.00000, Test Acc: 0.79100\n",
            "Epoch: 053, Loss: 0.04553, Train Acc: 1.00000, Test Acc: 0.79100\n",
            "Epoch: 054, Loss: 0.05760, Train Acc: 1.00000, Test Acc: 0.79100\n",
            "Epoch: 055, Loss: 0.06841, Train Acc: 1.00000, Test Acc: 0.78900\n",
            "Epoch: 056, Loss: 0.06064, Train Acc: 1.00000, Test Acc: 0.79100\n",
            "Epoch: 057, Loss: 0.04161, Train Acc: 1.00000, Test Acc: 0.79100\n",
            "Epoch: 058, Loss: 0.04886, Train Acc: 1.00000, Test Acc: 0.78800\n",
            "Epoch: 059, Loss: 0.04890, Train Acc: 1.00000, Test Acc: 0.78900\n",
            "Epoch: 060, Loss: 0.04079, Train Acc: 1.00000, Test Acc: 0.79200\n",
            "Epoch: 061, Loss: 0.02949, Train Acc: 1.00000, Test Acc: 0.79300\n",
            "Epoch: 062, Loss: 0.03789, Train Acc: 1.00000, Test Acc: 0.79700\n",
            "Epoch: 063, Loss: 0.05908, Train Acc: 1.00000, Test Acc: 0.80100\n",
            "Epoch: 064, Loss: 0.04764, Train Acc: 1.00000, Test Acc: 0.80100\n",
            "Epoch: 065, Loss: 0.06492, Train Acc: 1.00000, Test Acc: 0.80100\n",
            "Epoch: 066, Loss: 0.04346, Train Acc: 1.00000, Test Acc: 0.80100\n",
            "Epoch: 067, Loss: 0.05890, Train Acc: 1.00000, Test Acc: 0.80300\n",
            "Epoch: 068, Loss: 0.05985, Train Acc: 1.00000, Test Acc: 0.80900\n",
            "Epoch: 069, Loss: 0.05566, Train Acc: 1.00000, Test Acc: 0.80800\n",
            "Epoch: 070, Loss: 0.05847, Train Acc: 1.00000, Test Acc: 0.80800\n",
            "Epoch: 071, Loss: 0.05688, Train Acc: 1.00000, Test Acc: 0.80800\n",
            "Epoch: 072, Loss: 0.05899, Train Acc: 1.00000, Test Acc: 0.80700\n",
            "Epoch: 073, Loss: 0.05063, Train Acc: 1.00000, Test Acc: 0.80300\n",
            "Epoch: 074, Loss: 0.04432, Train Acc: 1.00000, Test Acc: 0.80100\n",
            "Epoch: 075, Loss: 0.05226, Train Acc: 1.00000, Test Acc: 0.79700\n",
            "Epoch: 076, Loss: 0.03316, Train Acc: 1.00000, Test Acc: 0.79700\n",
            "Epoch: 077, Loss: 0.04333, Train Acc: 1.00000, Test Acc: 0.79700\n",
            "Epoch: 078, Loss: 0.04414, Train Acc: 1.00000, Test Acc: 0.79600\n",
            "Epoch: 079, Loss: 0.06998, Train Acc: 1.00000, Test Acc: 0.79500\n",
            "Epoch: 080, Loss: 0.05870, Train Acc: 1.00000, Test Acc: 0.79700\n",
            "Epoch: 081, Loss: 0.03766, Train Acc: 1.00000, Test Acc: 0.79900\n",
            "Epoch: 082, Loss: 0.03825, Train Acc: 1.00000, Test Acc: 0.80000\n",
            "Epoch: 083, Loss: 0.05247, Train Acc: 1.00000, Test Acc: 0.80100\n",
            "Epoch: 084, Loss: 0.04490, Train Acc: 1.00000, Test Acc: 0.80100\n",
            "Epoch: 085, Loss: 0.04224, Train Acc: 1.00000, Test Acc: 0.80100\n",
            "Epoch: 086, Loss: 0.04428, Train Acc: 1.00000, Test Acc: 0.80200\n",
            "Epoch: 087, Loss: 0.04046, Train Acc: 1.00000, Test Acc: 0.80200\n",
            "Epoch: 088, Loss: 0.05173, Train Acc: 1.00000, Test Acc: 0.80300\n",
            "Epoch: 089, Loss: 0.04300, Train Acc: 1.00000, Test Acc: 0.80800\n",
            "Epoch: 090, Loss: 0.04658, Train Acc: 1.00000, Test Acc: 0.80700\n",
            "Epoch: 091, Loss: 0.05502, Train Acc: 1.00000, Test Acc: 0.80800\n",
            "Epoch: 092, Loss: 0.04169, Train Acc: 1.00000, Test Acc: 0.80900\n",
            "Epoch: 093, Loss: 0.04094, Train Acc: 1.00000, Test Acc: 0.81000\n",
            "Epoch: 094, Loss: 0.04104, Train Acc: 1.00000, Test Acc: 0.80900\n",
            "Epoch: 095, Loss: 0.04646, Train Acc: 1.00000, Test Acc: 0.81000\n",
            "Epoch: 096, Loss: 0.04907, Train Acc: 1.00000, Test Acc: 0.81200\n",
            "Epoch: 097, Loss: 0.03695, Train Acc: 1.00000, Test Acc: 0.81200\n",
            "Epoch: 098, Loss: 0.03992, Train Acc: 1.00000, Test Acc: 0.81200\n",
            "Epoch: 099, Loss: 0.03363, Train Acc: 1.00000, Test Acc: 0.81200\n",
            "<Figure size 640x480 with 1 Axes>\n"
          ]
        }
      ]
    },
    {
      "cell_type": "code",
      "source": [
        ""
      ],
      "metadata": {
        "id": "bFNOVfAOjMLj"
      },
      "execution_count": null,
      "outputs": []
    }
  ]
}